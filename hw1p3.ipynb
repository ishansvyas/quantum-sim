{
 "cells": [
  {
   "cell_type": "code",
   "execution_count": 6,
   "id": "771bbea7-d036-418e-8beb-7fc9abb5cdee",
   "metadata": {},
   "outputs": [
    {
     "name": "stderr",
     "output_type": "stream",
     "text": [
      "C:\\Users\\isv4\\AppData\\Local\\Temp\\ipykernel_20908\\2714167168.py:12: DeprecationWarning: `scipy.special.sph_harm` is deprecated as of SciPy 1.15.0 and will be removed in SciPy 1.17.0. Please use `scipy.special.sph_harm_y` instead.\n",
      "  Y_l1_m1 = sph_harm(m1, l1, phi, theta)\n",
      "C:\\Users\\isv4\\AppData\\Local\\Temp\\ipykernel_20908\\2714167168.py:13: DeprecationWarning: `scipy.special.sph_harm` is deprecated as of SciPy 1.15.0 and will be removed in SciPy 1.17.0. Please use `scipy.special.sph_harm_y` instead.\n",
      "  Y_l2_m2 = sph_harm(m2, l2, phi, theta)\n"
     ]
    },
    {
     "name": "stdout",
     "output_type": "stream",
     "text": [
      "Angular integral: 0.0\n"
     ]
    },
    {
     "name": "stderr",
     "output_type": "stream",
     "text": [
      "C:\\Users\\isv4\\AppData\\Local\\Temp\\ipykernel_20908\\2714167168.py:22: DeprecationWarning: `trapz` is deprecated. Use `trapezoid` instead, or one of the numerical integration functions in `scipy.integrate`.\n",
      "  integral_theta = romb(np.trapz(integrand, x=phi, axis=1), dx=(np.pi / (num_points - 1)))\n"
     ]
    }
   ],
   "source": [
    "import numpy as np\n",
    "from scipy.special import sph_harm\n",
    "from scipy.integrate import romb\n",
    "\n",
    "def angular_integral(l1, m1, l2, m2, g_func=lambda theta, phi: 1):\n",
    "    num_points = 257  # Number of points for integration\n",
    "    theta = np.linspace(0, np.pi, num_points)  # θ from 0 to π\n",
    "    phi = np.linspace(0, 2 * np.pi, num_points)  # φ from 0 to 2π\n",
    "    theta, phi = np.meshgrid(theta, phi)\n",
    "\n",
    "    # Spherical harmonics\n",
    "    Y_l1_m1 = sph_harm(m1, l1, phi, theta) \n",
    "    Y_l2_m2 = sph_harm(m2, l2, phi, theta) \n",
    "\n",
    "    # Angular operator g(θ, φ)\n",
    "    g_values = g_func(theta, phi)\n",
    "\n",
    "    # Integrand: Y_l1_m1^* * g * Y_l2_m2 * sin(θ)\n",
    "    integrand = np.conj(Y_l1_m1) * g_values * Y_l2_m2 * np.sin(theta)\n",
    "\n",
    "    # Integrate over θ and φ using Romberg integration\n",
    "    integral_theta = romb(np.trapz(integrand, x=phi, axis=1), dx=(np.pi / (num_points - 1)))\n",
    "    result = integral_theta\n",
    "\n",
    "    return result.real  # Return the real part of the integral\n",
    "\n",
    "# g(θ, φ) = 1 \n",
    "l1, m1 = 1, 1\n",
    "l2, m2 = 1, 1\n",
    "result = angular_integral(l1, m1, l2, m2, g_func = lambda theta, phi: 1)\n",
    "print(f\"Angular integral: {result}\")\n",
    "\n",
    "# # Test with a random g(θ, φ) = cos(θ)\n",
    "# result_custom = angular_integral(l1, m1, l2, m2, g_func=lambda theta, phi: np.cos(theta))\n",
    "# print(f\"Angular integral for g(θ, φ) = cos(θ): {result_custom}\")\n"
   ]
  }
 ],
 "metadata": {
  "kernelspec": {
   "display_name": "Python 3 (ipykernel)",
   "language": "python",
   "name": "python3"
  },
  "language_info": {
   "codemirror_mode": {
    "name": "ipython",
    "version": 3
   },
   "file_extension": ".py",
   "mimetype": "text/x-python",
   "name": "python",
   "nbconvert_exporter": "python",
   "pygments_lexer": "ipython3",
   "version": "3.13.1"
  }
 },
 "nbformat": 4,
 "nbformat_minor": 5
}
